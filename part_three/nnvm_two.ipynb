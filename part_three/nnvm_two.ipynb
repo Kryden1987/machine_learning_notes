{
 "cells": [
  {
   "cell_type": "code",
   "execution_count": 33,
   "metadata": {},
   "outputs": [],
   "source": [
    "import nnvm\n",
    "#import nnvm.symbol as sym\n",
    "#import tvm\n",
    "import tensorflow as tf\n",
    "#import os\n",
    "from mxnet.gluon.utils import download\n",
    "#import nnvm.testing.tf"
   ]
  },
  {
   "cell_type": "code",
   "execution_count": 34,
   "metadata": {},
   "outputs": [],
   "source": [
    "repo_base = 'https://github.com/dmlc/web-data/raw/master/tensorflow/models/InceptionV1/'\n",
    "model_name = 'classify_image_graph_def-with_shapes.pb'\n",
    "model_url = os.path.join(repo_base, model_name)"
   ]
  },
  {
   "cell_type": "code",
   "execution_count": 35,
   "metadata": {},
   "outputs": [
    {
     "data": {
      "text/plain": [
       "'classify_image_graph_def-with_shapes.pb'"
      ]
     },
     "execution_count": 35,
     "metadata": {},
     "output_type": "execute_result"
    }
   ],
   "source": [
    "download(model_url, model_name)"
   ]
  },
  {
   "cell_type": "code",
   "execution_count": 36,
   "metadata": {},
   "outputs": [],
   "source": [
    "with tf.gfile.FastGFile(os.path.join(\"./\", model_name), 'rb') as f:\n",
    "    graph_def = tf.GraphDef()\n",
    "    graph_def.ParseFromString(f.read())\n",
    "    graph = tf.import_graph_def(graph_def, name='')\n",
    "    # Call the utility to import the graph definition into default graph.\n",
    "    #graph_def = nnvm.testing.tf.ProcessGraphDefParam(graph_def)\n",
    "    # Add shapes to the graph.\n",
    "    #with tf.Session() as sess:\n",
    "        #graph_def = nnvm.testing.tf.AddShapesToGraphDef(sess, 'softmax')"
   ]
  },
  {
   "cell_type": "code",
   "execution_count": 37,
   "metadata": {},
   "outputs": [
    {
     "name": "stdout",
     "output_type": "stream",
     "text": [
      "DecodeJpeg: It's a pass through, please handle preprocessing before input\n"
     ]
    }
   ],
   "source": [
    "sym, params = nnvm.frontend.from_tensorflow(graph_def)"
   ]
  },
  {
   "cell_type": "code",
   "execution_count": 38,
   "metadata": {},
   "outputs": [],
   "source": [
    "compute_graph = nnvm.graph.create(sym)\n",
    "\n",
    "with open('ir.txt','w') as f:\n",
    "    f.write(compute_graph.ir())"
   ]
  },
  {
   "cell_type": "code",
   "execution_count": null,
   "metadata": {},
   "outputs": [],
   "source": []
  },
  {
   "cell_type": "code",
   "execution_count": null,
   "metadata": {},
   "outputs": [],
   "source": []
  }
 ],
 "metadata": {
  "kernelspec": {
   "display_name": "Python 3",
   "language": "python",
   "name": "python3"
  },
  "language_info": {
   "codemirror_mode": {
    "name": "ipython",
    "version": 3
   },
   "file_extension": ".py",
   "mimetype": "text/x-python",
   "name": "python",
   "nbconvert_exporter": "python",
   "pygments_lexer": "ipython3",
   "version": "3.6.8rc1"
  }
 },
 "nbformat": 4,
 "nbformat_minor": 2
}
