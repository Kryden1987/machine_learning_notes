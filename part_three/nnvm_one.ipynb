{
 "cells": [
  {
   "cell_type": "code",
   "execution_count": 16,
   "metadata": {},
   "outputs": [],
   "source": [
    "import nnvm.compiler\n",
    "import nnvm.symbol as sym\n",
    "import tvm\n",
    "import numpy as np\n",
    "from   tvm.contrib import graph_runtime, util"
   ]
  },
  {
   "cell_type": "code",
   "execution_count": 17,
   "metadata": {},
   "outputs": [
    {
     "name": "stdout",
     "output_type": "stream",
     "text": [
      "-------compute graph-------\n",
      "Graph(%x, %y) {\n",
      "  %2 = sqrt(%y)\n",
      "  %3 = elemwise_add(%x, %2)\n",
      "  ret %3\n",
      "}\n"
     ]
    }
   ],
   "source": [
    "x = sym.Variable(\"x\")\n",
    "y = sym.Variable(\"y\")\n",
    "z = sym.elemwise_add(x, sym.sqrt(y))\n",
    "compute_graph = nnvm.graph.create(z)\n",
    "print(\"-------compute graph-------\")\n",
    "print(compute_graph.ir())"
   ]
  },
  {
   "cell_type": "code",
   "execution_count": 18,
   "metadata": {},
   "outputs": [],
   "source": [
    "shape = (4,)\n",
    "deploy_graph, lib, params = nnvm.compiler.build(\n",
    "    compute_graph, target='opencl', shape={\"x\": shape}, dtype=\"float32\")"
   ]
  },
  {
   "cell_type": "code",
   "execution_count": 19,
   "metadata": {},
   "outputs": [
    {
     "name": "stdout",
     "output_type": "stream",
     "text": [
      "__kernel void fuse_sqrt_elemwise_add_kernel0(__global float* restrict tensor, __global float* restrict input1, __global float* restrict input0) {\n",
      "  if (((int)get_local_id(0)) < 4) {\n",
      "    tensor[((int)get_local_id(0))] = (input1[((int)get_local_id(0))] + sqrt(input0[((int)get_local_id(0))]));\n",
      "  }\n",
      "}\n",
      "\n",
      "\n"
     ]
    }
   ],
   "source": [
    "print(lib.imported_modules[0].get_source())"
   ]
  },
  {
   "cell_type": "code",
   "execution_count": 20,
   "metadata": {},
   "outputs": [
    {
     "name": "stdout",
     "output_type": "stream",
     "text": [
      "[3. 5. 7. 9.]\n"
     ]
    }
   ],
   "source": [
    "module = graph_runtime.create(deploy_graph, lib, tvm.opencl())\n",
    "x_np = np.array([1, 2, 3, 4]).astype(\"float32\")\n",
    "y_np = np.array([4, 9, 16, 25]).astype(\"float32\")\n",
    "module.set_input(x=x_np, y=y_np)\n",
    "module.run()\n",
    "out = module.get_output(0, out=tvm.nd.empty(shape))\n",
    "print(out.asnumpy())\n"
   ]
  },
  {
   "cell_type": "code",
   "execution_count": 24,
   "metadata": {},
   "outputs": [
    {
     "name": "stdout",
     "output_type": "stream",
     "text": [
      "None\n"
     ]
    }
   ],
   "source": [
    "shape = (5,)\n",
    "deploy_graph, lib, params = nnvm.compiler.build(\n",
    "    compute_graph, target='llvm', shape={\"x\": shape}, dtype=\"float32\")\n"
   ]
  },
  {
   "cell_type": "code",
   "execution_count": 22,
   "metadata": {},
   "outputs": [
    {
     "name": "stdout",
     "output_type": "stream",
     "text": [
      "[ 3.  5.  7.  9. 11.]\n"
     ]
    }
   ],
   "source": [
    "module = graph_runtime.create(deploy_graph, lib, tvm.cpu())\n",
    "x_np = np.array([1, 2, 3, 4, 5]).astype(\"float32\")\n",
    "y_np = np.array([4, 9, 16, 25, 36]).astype(\"float32\")\n",
    "module.set_input(x=x_np, y=y_np)\n",
    "module.run()\n",
    "out = module.get_output(0, out=tvm.nd.empty(shape))\n",
    "print(out.asnumpy())"
   ]
  },
  {
   "cell_type": "code",
   "execution_count": 25,
   "metadata": {},
   "outputs": [],
   "source": [
    "lib.export_library('den.so')\n",
    "\n",
    "with open(\"deploy.json\", \"w\") as fo:\n",
    "    fo.write(deploy_graph.json())\n",
    "    \n"
   ]
  },
  {
   "cell_type": "code",
   "execution_count": null,
   "metadata": {},
   "outputs": [],
   "source": []
  }
 ],
 "metadata": {
  "kernelspec": {
   "display_name": "Python 3",
   "language": "python",
   "name": "python3"
  },
  "language_info": {
   "codemirror_mode": {
    "name": "ipython",
    "version": 3
   },
   "file_extension": ".py",
   "mimetype": "text/x-python",
   "name": "python",
   "nbconvert_exporter": "python",
   "pygments_lexer": "ipython3",
   "version": "3.6.8rc1"
  }
 },
 "nbformat": 4,
 "nbformat_minor": 2
}
