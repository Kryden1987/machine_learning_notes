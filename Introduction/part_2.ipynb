{
 "cells": [
  {
   "cell_type": "markdown",
   "metadata": {},
   "source": [
    "# TensorFlow\n",
    "\n"
   ]
  },
  {
   "cell_type": "code",
   "execution_count": 2,
   "metadata": {},
   "outputs": [
    {
     "name": "stdout",
     "output_type": "stream",
     "text": [
      "357.0\n"
     ]
    }
   ],
   "source": [
    "import tensorflow as tf\n",
    "import numpy as np\n",
    "\n",
    "x = tf.constant(123.,name=\"x\")\n",
    "y = tf.constant(234.,name=\"y\")\n",
    "z = tf.add(x,y,name=\"z\")\n",
    "    \n",
    "init = tf.global_variables_initializer()\n",
    "    \n",
    "with tf.Session() as sess:\n",
    "    sess.run(init)\n",
    "    out = sess.run(z)\n",
    "    print(out)"
   ]
  },
  {
   "cell_type": "code",
   "execution_count": 3,
   "metadata": {},
   "outputs": [
    {
     "name": "stdout",
     "output_type": "stream",
     "text": [
      "1.0\n",
      "2.0\n",
      "3.0\n",
      "4.0\n",
      "5.0\n",
      "6.0\n",
      "7.0\n",
      "8.0\n",
      "9.0\n",
      "10.0\n"
     ]
    }
   ],
   "source": [
    "x    = tf.Variable(0.0,name=\"X\")\n",
    "inc  = x.assign(x+1.0)    \n",
    "\n",
    "init = tf.global_variables_initializer()\n",
    "    \n",
    "with tf.Session() as sess:\n",
    "    sess.run(init)\n",
    "    for i in range(10):\n",
    "        z = sess.run(inc)\n",
    "        print(z)"
   ]
  },
  {
   "cell_type": "code",
   "execution_count": 4,
   "metadata": {},
   "outputs": [
    {
     "name": "stdout",
     "output_type": "stream",
     "text": [
      "[[-0.61761415  0.9979272   0.72891474]\n",
      " [-0.38725466  0.12350023  0.10893297]]\n"
     ]
    }
   ],
   "source": [
    "weight_initializer = tf.variance_scaling_initializer(mode=\"fan_avg\", distribution=\"uniform\", scale=1)\n",
    "    \n",
    "X = tf.Variable(weight_initializer([2,3]))\n",
    "    \n",
    "init = tf.global_variables_initializer()\n",
    "    \n",
    "with tf.Session() as sess:\n",
    "    sess.run(init)\n",
    "    out = sess.run(X)\n",
    "    print(out)"
   ]
  },
  {
   "cell_type": "code",
   "execution_count": 5,
   "metadata": {},
   "outputs": [
    {
     "name": "stdout",
     "output_type": "stream",
     "text": [
      "[[0.42639746 0.26465098 0.77241194 0.66987372 0.53988522]]\n",
      "[[0.15430506 0.48024252 0.86934438 0.88386248 0.89774834]]\n",
      "[[0.5807025 0.7448935 1.6417563 1.5537362 1.4376335]]\n"
     ]
    }
   ],
   "source": [
    "A = tf.placeholder(tf.float32,[None,5],name=\"A\")\n",
    "B = tf.placeholder(tf.float32,[None,5],name=\"B\")\n",
    "C = tf.add(A,B,name=\"C\")\n",
    "\n",
    "with tf.Session() as sess:\n",
    "    randA = np.random.rand(1,5)\n",
    "    randB = np.random.rand(1,5)\n",
    "    out   = sess.run(C, feed_dict={A: randA,B : randB})\n",
    "    print(randA)\n",
    "    print(randB)\n",
    "    print(out)\n"
   ]
  },
  {
   "cell_type": "code",
   "execution_count": 6,
   "metadata": {},
   "outputs": [
    {
     "name": "stdout",
     "output_type": "stream",
     "text": [
      "[[0. 0. 0.]\n",
      " [0. 0. 0.]\n",
      " [0. 0. 0.]]\n"
     ]
    }
   ],
   "source": [
    "zeros_tensor = tf.zeros([3, 3])\n",
    "\n",
    "with tf.Session() as sess:\n",
    "    print(zeros_tensor.eval())"
   ]
  },
  {
   "cell_type": "code",
   "execution_count": 7,
   "metadata": {},
   "outputs": [
    {
     "name": "stdout",
     "output_type": "stream",
     "text": [
      "(array([0, 1, 2, 3]), array([11, 12, 13, 14]))\n",
      "(array([4, 5, 6, 7]), array([15, 16, 17, 18]))\n",
      "(array([8, 9]), array([19, 20]))\n"
     ]
    }
   ],
   "source": [
    "x = np.arange(0,  10)\n",
    "y = np.arange(11, 21)\n",
    "\n",
    "dx = tf.data.Dataset.from_tensor_slices(x)\n",
    "dy = tf.data.Dataset.from_tensor_slices(y)\n",
    "\n",
    "dset     = tf.data.Dataset.zip((dx, dy)).batch(4)\n",
    "iterator = dset.make_initializable_iterator()\n",
    "\n",
    "next_element = iterator.get_next()\n",
    "\n",
    "with tf.Session() as sess:\n",
    "    sess.run(iterator.initializer)\n",
    "    for i in range(3):\n",
    "        val = sess.run(next_element)\n",
    "        print(val)"
   ]
  },
  {
   "cell_type": "code",
   "execution_count": 8,
   "metadata": {},
   "outputs": [
    {
     "name": "stdout",
     "output_type": "stream",
     "text": [
      "[[0. 1. 0. 0.]\n",
      " [0. 0. 0. 1.]\n",
      " [0. 0. 1. 0.]\n",
      " [1. 0. 0. 0.]]\n"
     ]
    }
   ],
   "source": [
    "y = np.array([1,3,2,0])\n",
    "    \n",
    "Y = tf.keras.utils.to_categorical(y,4)\n",
    "\n",
    "print(Y)"
   ]
  },
  {
   "cell_type": "code",
   "execution_count": 21,
   "metadata": {},
   "outputs": [],
   "source": [
    "STORE_PATH = '../graphs'\n",
    "\n",
    "GX = tf.placeholder(tf.float32,[3,3],name=\"GX\")\n",
    "GY = tf.placeholder(tf.float32,[3,3],name=\"GY\")\n",
    "GZ = tf.multiply(GX,GY,name=\"GZ\")\n",
    "\n",
    "with tf.Session() as sess:\n",
    "    rgx = np.random.rand(3,3)\n",
    "    rgy = np.random.rand(3,3)\n",
    "    \n",
    "    out = sess.run(GZ, feed_dict={GX: rgx,GY : rgy})\n",
    "    \n",
    "    writer = tf.summary.FileWriter(STORE_PATH, sess.graph)"
   ]
  },
  {
   "cell_type": "code",
   "execution_count": null,
   "metadata": {},
   "outputs": [],
   "source": []
  }
 ],
 "metadata": {
  "kernelspec": {
   "display_name": "Python 3",
   "language": "python",
   "name": "python3"
  },
  "language_info": {
   "codemirror_mode": {
    "name": "ipython",
    "version": 3
   },
   "file_extension": ".py",
   "mimetype": "text/x-python",
   "name": "python",
   "nbconvert_exporter": "python",
   "pygments_lexer": "ipython3",
   "version": "3.5.2"
  }
 },
 "nbformat": 4,
 "nbformat_minor": 2
}
