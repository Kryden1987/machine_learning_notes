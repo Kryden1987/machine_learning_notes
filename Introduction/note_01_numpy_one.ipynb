{
 "cells": [
  {
   "cell_type": "markdown",
   "metadata": {},
   "source": [
    "# Часть первая\n",
    "\n",
    "## Библиотека NumPy"
   ]
  },
  {
   "cell_type": "code",
   "execution_count": 23,
   "metadata": {},
   "outputs": [
    {
     "name": "stdout",
     "output_type": "stream",
     "text": [
      "x =  [1 2 3 4 5 6 7 8 9]\n",
      "y =  [7 3 5 1 8 2 6 9 4]\n",
      "z = x + y =  [ 8  5  8  5 13  8 13 17 13]\n",
      "m = x * y =  [ 7  6 15  4 40 12 42 72 36]\n",
      "mm = x dot y =  234\n"
     ]
    }
   ],
   "source": [
    "import numpy as np\n",
    "\n",
    "x = np.array([1,2,3,4,5,6,7,8,9])\n",
    "y = np.array([7,3,5,1,8,2,6,9,4])\n",
    "z = x+y\n",
    "m = x*y\n",
    "mm = np.vdot(x,y)\n",
    "print(\"x = \",x)\n",
    "print(\"y = \",y)\n",
    "print(\"z = x + y = \",z)\n",
    "print(\"m = x * y = \",m)\n",
    "print(\"mm = x dot y = \",mm)"
   ]
  },
  {
   "cell_type": "code",
   "execution_count": 3,
   "metadata": {},
   "outputs": [
    {
     "name": "stdout",
     "output_type": "stream",
     "text": [
      "[4 5]\n",
      "[3 1 2]\n"
     ]
    }
   ],
   "source": [
    "slice = x[3:5]\n",
    "print(slice)\n",
    "\n",
    "slice_with_step = y[1:6:2]\n",
    "print(slice_with_step)"
   ]
  },
  {
   "cell_type": "code",
   "execution_count": 4,
   "metadata": {},
   "outputs": [
    {
     "name": "stdout",
     "output_type": "stream",
     "text": [
      "shape arr =  (3, 3)\n",
      "arr[0] =  [1 2 3]\n"
     ]
    }
   ],
   "source": [
    "arr = np.array([[1,2,3],[4,5,6],[7,8,9]])\n",
    "print(\"shape arr = \",arr.shape)\n",
    "\n",
    "print(\"arr[0] = \",arr[0])"
   ]
  },
  {
   "cell_type": "code",
   "execution_count": 5,
   "metadata": {},
   "outputs": [
    {
     "name": "stdout",
     "output_type": "stream",
     "text": [
      "[[1 2 3]\n",
      " [7 8 9]]\n",
      "[[1 3]\n",
      " [7 9]]\n"
     ]
    }
   ],
   "source": [
    "sarr = arr[0::2]\n",
    "print(sarr)\n",
    "qarr = arr[0::2,0::2]\n",
    "print(qarr)"
   ]
  },
  {
   "cell_type": "code",
   "execution_count": 6,
   "metadata": {},
   "outputs": [
    {
     "name": "stdout",
     "output_type": "stream",
     "text": [
      "[[0.90886381 0.90801509 0.8923562 ]\n",
      " [0.79329864 0.26534654 0.29678912]]\n"
     ]
    }
   ],
   "source": [
    "rand_array = np.random.rand(2,3)\n",
    "\n",
    "print(rand_array)\n"
   ]
  },
  {
   "cell_type": "code",
   "execution_count": 7,
   "metadata": {},
   "outputs": [
    {
     "name": "stdout",
     "output_type": "stream",
     "text": [
      "-0.47836572815842227\n"
     ]
    }
   ],
   "source": [
    "s = np.random.normal()\n",
    "\n",
    "print(s)"
   ]
  },
  {
   "cell_type": "code",
   "execution_count": 15,
   "metadata": {},
   "outputs": [
    {
     "name": "stdout",
     "output_type": "stream",
     "text": [
      "[[1 2 3]\n",
      " [4 5 6]\n",
      " [7 8 9]]\n"
     ]
    }
   ],
   "source": [
    "A = np.array([[1,2,3],[4,5,6],[7,8,9]])\n",
    "\n",
    "print(A)"
   ]
  },
  {
   "cell_type": "code",
   "execution_count": 16,
   "metadata": {},
   "outputs": [
    {
     "name": "stdout",
     "output_type": "stream",
     "text": [
      "[[1 4 7]\n",
      " [2 5 8]\n",
      " [3 6 9]]\n",
      "0.0\n"
     ]
    }
   ],
   "source": [
    "B = A.transpose()\n",
    "D = np.linalg.det(A)\n",
    "\n",
    "print(B)\n",
    "print(D)"
   ]
  },
  {
   "cell_type": "code",
   "execution_count": 19,
   "metadata": {},
   "outputs": [
    {
     "name": "stdout",
     "output_type": "stream",
     "text": [
      "7.416198487095663\n",
      "5.0\n"
     ]
    }
   ],
   "source": [
    "V = np.array([1,2,3,4,5])\n",
    "\n",
    "N = np.linalg.norm(V)\n",
    "\n",
    "Q = np.linalg.norm(V,np.inf)\n",
    "\n",
    "print(N)\n",
    "print(Q)"
   ]
  },
  {
   "cell_type": "code",
   "execution_count": 25,
   "metadata": {},
   "outputs": [
    {
     "name": "stdout",
     "output_type": "stream",
     "text": [
      "[[-0.21428571  0.35714286]\n",
      " [ 0.28571429 -0.14285714]]\n",
      "[[1.00000000e+00 5.55111512e-17]\n",
      " [0.00000000e+00 1.00000000e+00]]\n"
     ]
    }
   ],
   "source": [
    "M = np.array([[2,5],[4,3]])\n",
    "\n",
    "IM = np.linalg.inv(M)\n",
    "\n",
    "print(IM)\n",
    "\n",
    "R = np.matmul(IM,M)\n",
    "\n",
    "print(R)"
   ]
  },
  {
   "cell_type": "code",
   "execution_count": null,
   "metadata": {},
   "outputs": [],
   "source": []
  }
 ],
 "metadata": {
  "kernelspec": {
   "display_name": "Python 3",
   "language": "python",
   "name": "python3"
  },
  "language_info": {
   "codemirror_mode": {
    "name": "ipython",
    "version": 3
   },
   "file_extension": ".py",
   "mimetype": "text/x-python",
   "name": "python",
   "nbconvert_exporter": "python",
   "pygments_lexer": "ipython3",
   "version": "3.7.1"
  }
 },
 "nbformat": 4,
 "nbformat_minor": 2
}
