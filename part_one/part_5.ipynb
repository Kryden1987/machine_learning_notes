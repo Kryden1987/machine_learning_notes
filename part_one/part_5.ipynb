{
 "cells": [
  {
   "cell_type": "markdown",
   "metadata": {},
   "source": [
    "# Доступ к нейронам"
   ]
  },
  {
   "cell_type": "code",
   "execution_count": 1,
   "metadata": {},
   "outputs": [],
   "source": [
    "import tensorflow as tf\n",
    "import matplotlib.pyplot as plt\n",
    "import numpy as np"
   ]
  },
  {
   "cell_type": "code",
   "execution_count": 2,
   "metadata": {},
   "outputs": [
    {
     "name": "stdout",
     "output_type": "stream",
     "text": [
      "(60000, 28, 28)\n"
     ]
    }
   ],
   "source": [
    " mnist = tf.keras.datasets.mnist\n",
    "(X_train, y_train),(X_test, y_test) = mnist.load_data()\n",
    "\n",
    "X_train,X_test = X_train/255.0,X_test/255.0\n",
    "\n",
    "print(X_train.shape)\n"
   ]
  },
  {
   "cell_type": "code",
   "execution_count": 3,
   "metadata": {},
   "outputs": [
    {
     "data": {
      "image/png": "[encoded data removed]",
      "text/plain": [
       "<Figure size 720x720 with 9 Axes>"
      ]
     },
     "metadata": {},
     "output_type": "display_data"
    }
   ],
   "source": [
    "plt.figure(figsize=(10,10))\n",
    "\n",
    "for i in range(9):\n",
    "    plt.subplot(3,3,i+1)\n",
    "    plt.xticks([])\n",
    "    plt.yticks([])\n",
    "    plt.grid(False)\n",
    "    plt.imshow(X_train[i], cmap=plt.cm.binary)\n",
    "  \n"
   ]
  },
  {
   "cell_type": "code",
   "execution_count": 4,
   "metadata": {},
   "outputs": [],
   "source": [
    "model = tf.keras.Sequential([\n",
    "    tf.keras.layers.Flatten(input_shape=(28, 28)),\n",
    "    tf.keras.layers.Dense(256),\n",
    "    tf.keras.layers.ReLU(input_shape=(None,256)),\n",
    "    tf.keras.layers.Dense(128, activation=tf.nn.relu),\n",
    "    tf.keras.layers.ReLU(input_shape=(None,128)),\n",
    "    tf.keras.layers.Dense(10, activation=tf.nn.softmax)\n",
    "])\n",
    "\n",
    "model.compile(optimizer=tf.keras.optimizers.Adam(lr=0.001), \n",
    "              loss='sparse_categorical_crossentropy',\n",
    "              metrics=['accuracy'])\n"
   ]
  },
  {
   "cell_type": "code",
   "execution_count": 5,
   "metadata": {},
   "outputs": [
    {
     "data": {
      "image/png": "[encoded data removed]",
      "text/plain": [
       "<Figure size 720x720 with 9 Axes>"
      ]
     },
     "metadata": {},
     "output_type": "display_data"
    }
   ],
   "source": [
    "plt.figure(figsize=(10,10))\n",
    "\n",
    "for i in range(9):\n",
    "    plt.subplot(3,3,i+1)\n",
    "    plt.xticks([])\n",
    "    plt.yticks([])\n",
    "    plt.grid(False)\n",
    "    plt.imshow(X_test[i], cmap=plt.cm.binary)"
   ]
  },
  {
   "cell_type": "code",
   "execution_count": 6,
   "metadata": {},
   "outputs": [
    {
     "name": "stdout",
     "output_type": "stream",
     "text": [
      "Epoch 1/7\n",
      "60000/60000 [==============================] - 5s 78us/step - loss: 0.2037 - acc: 0.9403\n",
      "Epoch 2/7\n",
      "60000/60000 [==============================] - 4s 73us/step - loss: 0.0850 - acc: 0.9734\n",
      "Epoch 3/7\n",
      "60000/60000 [==============================] - 4s 73us/step - loss: 0.0566 - acc: 0.9818\n",
      "Epoch 4/7\n",
      "60000/60000 [==============================] - 4s 73us/step - loss: 0.0435 - acc: 0.9858\n",
      "Epoch 5/7\n",
      "60000/60000 [==============================] - 4s 73us/step - loss: 0.0342 - acc: 0.9886\n",
      "Epoch 6/7\n",
      "60000/60000 [==============================] - 4s 75us/step - loss: 0.0277 - acc: 0.9905\n",
      "Epoch 7/7\n",
      "60000/60000 [==============================] - 4s 74us/step - loss: 0.0233 - acc: 0.9920\n"
     ]
    },
    {
     "data": {
      "text/plain": [
       "<tensorflow.python.keras.callbacks.History at 0x7f42176daa90>"
      ]
     },
     "execution_count": 6,
     "metadata": {},
     "output_type": "execute_result"
    }
   ],
   "source": [
    "model.fit(X_train, y_train, epochs=7)\n"
   ]
  },
  {
   "cell_type": "code",
   "execution_count": 7,
   "metadata": {},
   "outputs": [
    {
     "name": "stdout",
     "output_type": "stream",
     "text": [
      "7\n"
     ]
    }
   ],
   "source": [
    "predictions = model.predict(X_test)\n",
    "\n",
    "p0 = np.argmax(predictions[0])\n",
    "\n",
    "print(p0)"
   ]
  },
  {
   "cell_type": "code",
   "execution_count": 8,
   "metadata": {},
   "outputs": [
    {
     "name": "stdout",
     "output_type": "stream",
     "text": [
      "(10000, 256)\n",
      "(10000, 256)\n",
      "(10000, 128)\n",
      "(10000, 128)\n"
     ]
    }
   ],
   "source": [
    "get_1_layer_output = tf.keras.backend.function([model.layers[0].input],[model.layers[1].output])\n",
    "get_2_layer_output = tf.keras.backend.function([model.layers[0].input],[model.layers[2].output])\n",
    "get_3_layer_output = tf.keras.backend.function([model.layers[0].input],[model.layers[3].output])\n",
    "get_4_layer_output = tf.keras.backend.function([model.layers[0].input],[model.layers[4].output])\n",
    "\n",
    "layer_1 = get_1_layer_output([X_test])[0]\n",
    "layer_2 = get_2_layer_output([X_test])[0]\n",
    "layer_3 = get_3_layer_output([X_test])[0]\n",
    "layer_4 = get_3_layer_output([X_test])[0]\n",
    "\n",
    "print(layer_1.shape)\n",
    "print(layer_2.shape)\n",
    "print(layer_3.shape)\n",
    "print(layer_4.shape)\n"
   ]
  },
  {
   "cell_type": "code",
   "execution_count": 9,
   "metadata": {},
   "outputs": [],
   "source": [
    "nth_weights = model.layers[1].get_weights()\n"
   ]
  },
  {
   "cell_type": "code",
   "execution_count": 10,
   "metadata": {},
   "outputs": [],
   "source": [
    "model.save(\"../models/mnist_model.h5\",overwrite=True,include_optimizer=True)"
   ]
  },
  {
   "cell_type": "code",
   "execution_count": null,
   "metadata": {},
   "outputs": [],
   "source": []
  }
 ],
 "metadata": {
  "kernelspec": {
   "display_name": "Python 3",
   "language": "python",
   "name": "python3"
  },
  "language_info": {
   "codemirror_mode": {
    "name": "ipython",
    "version": 3
   },
   "file_extension": ".py",
   "mimetype": "text/x-python",
   "name": "python",
   "nbconvert_exporter": "python",
   "pygments_lexer": "ipython3",
   "version": "3.6.8rc1"
  }
 },
 "nbformat": 4,
 "nbformat_minor": 2
}
