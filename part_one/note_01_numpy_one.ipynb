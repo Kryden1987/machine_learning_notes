{
 "cells": [
  {
   "cell_type": "markdown",
   "metadata": {},
   "source": [
    "# Часть первая\n",
    "\n",
    "## Библиотека NumPy"
   ]
  },
  {
   "cell_type": "code",
   "execution_count": 2,
   "metadata": {},
   "outputs": [
    {
     "name": "stdout",
     "output_type": "stream",
     "text": [
      "x =  [1 2 3 4 5 6 7 8 9]\n",
      "y =  [7 3 5 1 8 2 6 9 4]\n",
      "z = x + y =  [ 8  5  8  5 13  8 13 17 13]\n"
     ]
    }
   ],
   "source": [
    "import numpy as np\n",
    "\n",
    "x = np.array([1,2,3,4,5,6,7,8,9])\n",
    "y = np.array([7,3,5,1,8,2,6,9,4])\n",
    "z = x+y\n",
    "print(\"x = \",x)\n",
    "print(\"y = \",y)\n",
    "print(\"z = x + y = \",z)"
   ]
  },
  {
   "cell_type": "code",
   "execution_count": 3,
   "metadata": {},
   "outputs": [
    {
     "name": "stdout",
     "output_type": "stream",
     "text": [
      "[4 5]\n",
      "[3 1 2]\n"
     ]
    }
   ],
   "source": [
    "slice = x[3:5]\n",
    "print(slice)\n",
    "\n",
    "slice_with_step = y[1:6:2]\n",
    "print(slice_with_step)"
   ]
  },
  {
   "cell_type": "code",
   "execution_count": 4,
   "metadata": {},
   "outputs": [
    {
     "name": "stdout",
     "output_type": "stream",
     "text": [
      "shape arr =  (3, 3)\n",
      "arr[0] =  [1 2 3]\n"
     ]
    }
   ],
   "source": [
    "arr = np.array([[1,2,3],[4,5,6],[7,8,9]])\n",
    "print(\"shape arr = \",arr.shape)\n",
    "\n",
    "print(\"arr[0] = \",arr[0])"
   ]
  },
  {
   "cell_type": "code",
   "execution_count": 5,
   "metadata": {},
   "outputs": [
    {
     "name": "stdout",
     "output_type": "stream",
     "text": [
      "[[1 2 3]\n",
      " [7 8 9]]\n",
      "[[1 3]\n",
      " [7 9]]\n"
     ]
    }
   ],
   "source": [
    "sarr = arr[0::2]\n",
    "print(sarr)\n",
    "qarr = arr[0::2,0::2]\n",
    "print(qarr)"
   ]
  },
  {
   "cell_type": "code",
   "execution_count": 6,
   "metadata": {},
   "outputs": [
    {
     "name": "stdout",
     "output_type": "stream",
     "text": [
      "[[0.03851175 0.16092634 0.41250559]\n",
      " [0.39275939 0.4202518  0.93391548]]\n"
     ]
    }
   ],
   "source": [
    "rand_array = np.random.rand(2,3)\n",
    "\n",
    "print(rand_array)\n"
   ]
  },
  {
   "cell_type": "code",
   "execution_count": 9,
   "metadata": {},
   "outputs": [
    {
     "name": "stdout",
     "output_type": "stream",
     "text": [
      "0.3027793016508071\n"
     ]
    }
   ],
   "source": [
    "s = np.random.normal()\n",
    "\n",
    "print(s)"
   ]
  },
  {
   "cell_type": "code",
   "execution_count": null,
   "metadata": {},
   "outputs": [],
   "source": []
  }
 ],
 "metadata": {
  "kernelspec": {
   "display_name": "Python 3",
   "language": "python",
   "name": "python3"
  },
  "language_info": {
   "codemirror_mode": {
    "name": "ipython",
    "version": 3
   },
   "file_extension": ".py",
   "mimetype": "text/x-python",
   "name": "python",
   "nbconvert_exporter": "python",
   "pygments_lexer": "ipython3",
   "version": "3.5.2"
  }
 },
 "nbformat": 4,
 "nbformat_minor": 2
}
