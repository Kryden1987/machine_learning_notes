{
 "cells": [
  {
   "cell_type": "markdown",
   "metadata": {},
   "source": [
    "# PyTorch"
   ]
  },
  {
   "cell_type": "code",
   "execution_count": 1,
   "metadata": {},
   "outputs": [],
   "source": [
    "import torch"
   ]
  },
  {
   "cell_type": "code",
   "execution_count": 2,
   "metadata": {},
   "outputs": [],
   "source": [
    "dtype = torch.float\n",
    "device = torch.device(\"cpu\")\n"
   ]
  },
  {
   "cell_type": "code",
   "execution_count": 3,
   "metadata": {},
   "outputs": [],
   "source": [
    "N, D_in, H, D_out = 64, 1000, 100, 10"
   ]
  },
  {
   "cell_type": "code",
   "execution_count": 5,
   "metadata": {},
   "outputs": [
    {
     "name": "stdout",
     "output_type": "stream",
     "text": [
      "tensor([[ 0.8039, -0.7690,  0.2678,  ..., -1.1748, -0.9188, -0.6803],\n",
      "        [-0.8540, -0.4779,  1.3208,  ..., -0.6045,  0.7013,  0.8063],\n",
      "        [-0.1752,  0.0912, -0.7627,  ...,  0.8188,  0.1483,  1.4148],\n",
      "        ...,\n",
      "        [-1.4464, -1.5084,  0.4109,  ...,  0.4092,  0.5082, -0.5411],\n",
      "        [-0.5152,  0.1769, -0.6880,  ..., -0.2588,  1.2187,  0.5848],\n",
      "        [ 1.5055, -0.6530,  1.1219,  ...,  0.7050,  1.9710, -2.3546]])\n",
      "torch.Size([64, 1000])\n"
     ]
    }
   ],
   "source": [
    "x = torch.randn(N, D_in, device=device, dtype=dtype)\n",
    "\n",
    "print(x)\n",
    "print(x.shape)"
   ]
  },
  {
   "cell_type": "code",
   "execution_count": null,
   "metadata": {},
   "outputs": [],
   "source": []
  }
 ],
 "metadata": {
  "kernelspec": {
   "display_name": "Python 3",
   "language": "python",
   "name": "python3"
  },
  "language_info": {
   "codemirror_mode": {
    "name": "ipython",
    "version": 3
   },
   "file_extension": ".py",
   "mimetype": "text/x-python",
   "name": "python",
   "nbconvert_exporter": "python",
   "pygments_lexer": "ipython3",
   "version": "3.5.2"
  }
 },
 "nbformat": 4,
 "nbformat_minor": 2
}
