{
 "cells": [
  {
   "cell_type": "code",
   "execution_count": 2,
   "metadata": {},
   "outputs": [],
   "source": [
    "import tensorflow        as tf\n",
    "import matplotlib.pyplot as plt\n",
    "import numpy             as np\n",
    "import random"
   ]
  },
  {
   "cell_type": "code",
   "execution_count": 3,
   "metadata": {},
   "outputs": [
    {
     "data": {
      "image/png": "[encoded data removed]",
      "text/plain": [
       "<Figure size 432x288 with 1 Axes>"
      ]
     },
     "metadata": {
      "needs_background": "light"
     },
     "output_type": "display_data"
    }
   ],
   "source": [
    "mnist = tf.keras.datasets.mnist\n",
    "\n",
    "(X_train, y_train),(X_test, y_test) = mnist.load_data()\n",
    "\n",
    "Image  = np.array(X_train[10], dtype='float')\n",
    "Pixels = Image.reshape((28, 28))\n",
    "\n",
    "plt.imshow(Pixels)\n",
    "plt.show()"
   ]
  },
  {
   "cell_type": "code",
   "execution_count": 4,
   "metadata": {},
   "outputs": [
    {
     "name": "stdout",
     "output_type": "stream",
     "text": [
      "3\n"
     ]
    }
   ],
   "source": [
    "print(y_train[10])"
   ]
  },
  {
   "cell_type": "code",
   "execution_count": 5,
   "metadata": {},
   "outputs": [],
   "source": [
    "X_train = X_train/255.0"
   ]
  },
  {
   "cell_type": "code",
   "execution_count": 6,
   "metadata": {},
   "outputs": [],
   "source": [
    "def NeuronLayer(NumberNeurons,NumberInputs):\n",
    "    return np.random.random((NumberInputs,NumberNeurons))"
   ]
  },
  {
   "cell_type": "code",
   "execution_count": 7,
   "metadata": {},
   "outputs": [],
   "source": [
    "def Sigmoid(x):\n",
    "    return 1/(1 + np.exp(-x))"
   ]
  },
  {
   "cell_type": "code",
   "execution_count": 8,
   "metadata": {},
   "outputs": [],
   "source": [
    "def SigmoidDerivative(x):\n",
    "    return x*(1-x)"
   ]
  },
  {
   "cell_type": "code",
   "execution_count": 9,
   "metadata": {},
   "outputs": [
    {
     "data": {
      "text/plain": [
       "60000"
      ]
     },
     "execution_count": 9,
     "metadata": {},
     "output_type": "execute_result"
    }
   ],
   "source": [
    "len(X_train)"
   ]
  },
  {
   "cell_type": "code",
   "execution_count": 10,
   "metadata": {},
   "outputs": [],
   "source": [
    "Layer1 = NeuronLayer(100,28*28) \n",
    "Layer2 = NeuronLayer(50,100)\n",
    "Layer3 = NeuronLayer(10,50)\n",
    "\n",
    "def GetOutput(SingleInput):\n",
    "    Layer1Output = Sigmoid(np.dot(SingleInput ,Layer1))\n",
    "    Layer2Output = Sigmoid(np.dot(Layer1Output,Layer2))\n",
    "    Layer3Output = Sigmoid(np.dot(Layer2Output,Layer3))\n",
    "    return Layer1Output,Layer2Output,Layer3Output\n",
    "\n",
    "def Train(TrainingSetInputs,TrainingSetOutputs):\n",
    "    global Layer1\n",
    "    global Layer2\n",
    "    global Layer3\n",
    "    for Index,Image in enumerate(TrainingSetInputs):\n",
    "        Input = Image.reshape((1,28*28))\n",
    "        out1,out2,out3 = GetOutput(Input)\n",
    "        \n",
    "        y        = TrainingSetOutputs[Index]\n",
    "        out      = np.zeros(10)\n",
    "        out[y-1] = 1.0\n",
    "        \n",
    "        error3 = out - out3\n",
    "        delta3 = error3 * SigmoidDerivative(out3)\n",
    "        \n",
    "        error2 = np.dot(delta3,Layer3.T)\n",
    "        delta2 = error2 * SigmoidDerivative(out2)\n",
    "               \n",
    "        error1 = np.dot(delta2,Layer2.T)\n",
    "        delta1 = error1 * SigmoidDerivative(out1)\n",
    "        \n",
    "        adjustment1 = np.dot(Input.T,delta1)\n",
    "        adjustment2 = np.dot(out1.T ,delta2)\n",
    "        adjustment3 = np.dot(out2.T ,delta3)\n",
    "        \n",
    "        Layer1 += adjustment1 \n",
    "        Layer2 += adjustment2 \n",
    "        Layer3 += adjustment3\n",
    "    return error3\n",
    "        \n"
   ]
  },
  {
   "cell_type": "code",
   "execution_count": 11,
   "metadata": {},
   "outputs": [
    {
     "name": "stdout",
     "output_type": "stream",
     "text": [
      "[[-1.00000000e+00 -1.00000000e+00 -1.00000000e+00 -1.00000000e+00\n",
      "  -1.00000000e+00 -1.00000000e+00 -1.00000000e+00  2.48020493e-10\n",
      "  -1.00000000e+00 -1.00000000e+00]]\n"
     ]
    }
   ],
   "source": [
    "err = Train(X_train,y_train)\n",
    "\n",
    "print(err)"
   ]
  },
  {
   "cell_type": "code",
   "execution_count": 12,
   "metadata": {},
   "outputs": [],
   "source": [
    "x,y,out = GetOutput(X_train[10].reshape((1,28*28)))"
   ]
  },
  {
   "cell_type": "code",
   "execution_count": 13,
   "metadata": {},
   "outputs": [
    {
     "data": {
      "text/plain": [
       "array([[1., 1., 1., 1., 1., 1., 1., 1., 1., 1.]])"
      ]
     },
     "execution_count": 13,
     "metadata": {},
     "output_type": "execute_result"
    }
   ],
   "source": [
    "out"
   ]
  },
  {
   "cell_type": "code",
   "execution_count": null,
   "metadata": {},
   "outputs": [],
   "source": []
  }
 ],
 "metadata": {
  "kernelspec": {
   "display_name": "Python 3",
   "language": "python",
   "name": "python3"
  },
  "language_info": {
   "codemirror_mode": {
    "name": "ipython",
    "version": 3
   },
   "file_extension": ".py",
   "mimetype": "text/x-python",
   "name": "python",
   "nbconvert_exporter": "python",
   "pygments_lexer": "ipython3",
   "version": "3.7.1"
  }
 },
 "nbformat": 4,
 "nbformat_minor": 2
}
